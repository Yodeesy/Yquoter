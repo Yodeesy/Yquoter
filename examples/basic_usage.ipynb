{
 "cells": [
  {
   "cell_type": "markdown",
   "id": "a2097ac2-e2d4-4788-90e2-c5b292886767",
   "metadata": {},
   "source": [
    "# Yquoter: Unified Financial Data Interface - Basic Usage\n",
    "## Introduction\n",
    "Welcome to the basic usage guide for Yquoter, a comprehensive toolkit designed to unify and analyze financial data from CN/HK/US markets, leveraging multiple sources including custom spiders and TuShare.\n",
    "\n",
    "This notebook demonstrates the core functionality of the public API.\n",
    "## 1. Environment Setup and Configuration\n",
    "This section covers necessary setup steps, including importing the library, initializing external dependencies (like TuShare), and configuring internal settings (like data sources and caching).\n",
    "**Imports**"
   ]
  },
  {
   "cell_type": "code",
   "execution_count": null,
   "id": "c2df9edb-9982-410d-948e-525da3b9b159",
   "metadata": {},
   "outputs": [],
   "source": [
    "import pandas as pd\n",
    "import warnings\n",
    "import os\n",
    "from yquoter import (\n",
    "    init_tushare,\n",
    "    init_cache_manager,\n",
    "    register_source,\n",
    "    register_tushare_module,\n",
    "    get_stock_profile,\n",
    "    get_stock_history,\n",
    "    get_ma_n,\n",
    "    get_boll_n,\n",
    "    get_max_drawdown,\n",
    "    get_vol_ratio,\n",
    "    get_rsi_n,\n",
    "    get_stock_realtime,\n",
    "    get_stock_financials,\n",
    "    get_stock_factors,\n",
    "    get_newest_df_path,\n",
    "    get_rv_n\n",
    ")\n",
    "\n",
    "# Configuration for display\n",
    "pd.set_option('display.max_columns', None)\n",
    "warnings.filterwarnings('ignore', category=FutureWarning)\n",
    "\n",
    "print(\"Yquoter modules imported successfully.\")"
   ]
  },
  {
   "cell_type": "markdown",
   "id": "d0c0b32c-e121-49a5-83f0-eb3eaad87130",
   "metadata": {},
   "source": [
    "**Configure External Services and Cache**"
   ]
  },
  {
   "cell_type": "code",
   "execution_count": null,
   "id": "51ea8678-954e-45a6-8549-44035f378cfd",
   "metadata": {},
   "outputs": [],
   "source": [
    "# Set up TuShare API token. This is essential if you rely on TuShare for data.\n",
    "# Replace 'YOUR_TUSHARE_TOKEN' with your actual token.\n",
    "TUSHARE_TOKEN = 'YOUR_TUSHARE_TOKEN'\n",
    "init_tushare(token=TUSHARE_TOKEN)\n",
    "print(f\"TuShare initialized.\")\n",
    "\n",
    "\n",
    "# Register a custom data source or module (e.g., if you have a custom spider)\n",
    "# Since the actual implementation of the custom source is not available, we use placeholders.\n",
    "# register_source(source_name='my_spider', func_type='realtime')\n",
    "\n",
    "# If you wanna activate tuShare Module, just use the function below.\n",
    "# register_tushare_module() \n",
    "\n",
    "# Set the maximum number of entries to keep in the cache to manage memory/disk space.\n",
    "MAX_CACHE_ENTRIES = 100\n",
    "init_cache_manager(MAX_CACHE_ENTRIES)\n",
    "print(f\"Cache limit set to {MAX_CACHE_ENTRIES} entries.\")"
   ]
  },
  {
   "cell_type": "markdown",
   "id": "9638a446-9baf-43ca-99c3-fbd209aa4387",
   "metadata": {},
   "source": [
    "## 2. Core Data Acquisition\n",
    "We will use `Kweichow Moutai (600519)` as the example stock for the Chinese A-share market.\n",
    "\n",
    "### 2.1. Stock Profile (Static Information)\n",
    "**Retrieve static profile information (code, name, industry, main business, etc.).**"
   ]
  },
  {
   "cell_type": "code",
   "execution_count": null,
   "id": "37745a1f-3399-4303-ab3b-a1deca3da0c9",
   "metadata": {},
   "outputs": [],
   "source": [
    "STOCK_CODE = \"600519\"\n",
    "MARKET = \"CN\"\n",
    "\n",
    "print(f\"--- Fetching Profile for {STOCK_CODE} ---\")\n",
    "\n",
    "# get_stock_profile(code, market, source)\n",
    "profile_df = get_stock_profile(code=STOCK_CODE, market=MARKET)\n",
    "\n",
    "# Display main business with truncation for better notebook formatting\n",
    "if not profile_df.empty and 'MAIN_BUSINESS' in profile_df.columns:\n",
    "    profile_df['MAIN_BUSINESS_SHORT'] = profile_df['MAIN_BUSINESS'].str[:80] + '...'\n",
    "    display_cols = ['CODE', 'NAME', 'INDUSTRY', 'LISTING_DATE', 'MAIN_BUSINESS_SHORT']\n",
    "    display(profile_df[display_cols])\n",
    "else:\n",
    "    display(profile_df)"
   ]
  },
  {
   "cell_type": "markdown",
   "id": "66d027b7-9180-4ea0-81b6-98897d1d6623",
   "metadata": {},
   "source": [
    "### 2.2. Historical and Realtime Data (OHLCV)\n",
    "**Retrieve daily historical data and the latest trade information.**"
   ]
  },
  {
   "cell_type": "code",
   "execution_count": null,
   "id": "f8beba1d-094f-4853-939c-f4fc1808de20",
   "metadata": {},
   "outputs": [],
   "source": [
    "# get_stock_history(market, code, start, end, klt, fqt, fields, source)\n",
    "# klt could be in str (such as \"d\", \"M\") or in int (from 101 to 105)\n",
    "START_DATE = '20230101'\n",
    "END_DATE = '20240930'\n",
    "\n",
    "print(f\"--- Fetching Historical Data ({START_DATE} to {END_DATE}) ---\")\n",
    "history_df = get_stock_history(\n",
    "    market=MARKET, \n",
    "    code=STOCK_CODE, \n",
    "    start=START_DATE, \n",
    "    end=END_DATE,\n",
    "    klt=\"d\"\n",
    ")  # You can also add a param, fields, which can be \"basic\" or \"full\". \n",
    "\n",
    "print(f\"Total {len(history_df)} historical records retrieved.\")\n",
    "display(history_df.head(5))\n",
    "\n",
    "\n",
    "print(f\"\\n--- Fetching Realtime Data for {STOCK_CODE} ---\")\n",
    "# You can also get Realtime data of different code (which must be in the same market) by passing a list of codes.\n",
    "# get_stock_realtime(market, codes, fields, source) \n",
    "realtime_df = get_stock_realtime(market=MARKET, codes=STOCK_CODE)\n",
    "display(realtime_df)"
   ]
  },
  {
   "cell_type": "markdown",
   "id": "18ca4121-6ad9-436c-8dbf-72427144148e",
   "metadata": {},
   "source": [
    "### 2.3. Financial Statements and Fundamental Factors\n",
    "**Retrieve periodic financial statements (e.g., quarterly) and calculated fundamental factors.**"
   ]
  },
  {
   "cell_type": "code",
   "execution_count": null,
   "id": "8604aed1-e1b3-47e4-9067-3b756c3965be",
   "metadata": {},
   "outputs": [],
   "source": [
    "# get_stock_financials(market, code, end_day, report_type, limit, source)\n",
    "# Example: Quarterly Income Statement (LRB)\n",
    "print(f\"--- Fetching Latest 4 Quarterly Income Statements (LRB) ---\")\n",
    "financials_df = get_stock_financials(\n",
    "    market=MARKET, \n",
    "    code=STOCK_CODE, \n",
    "    end_day=END_DATE,\n",
    "    report_type='LRB', \n",
    "    limit=4\n",
    ")\n",
    "display(financials_df[['REPORT_DATE', 'TOTAL_OPERATE_INCOME', 'PARENT_NETPROFIT']])\n",
    "\n",
    "\n",
    "# get_stock_factors(market, code, trade_date, source)\n",
    "# This version only can get some certain factors, and more options will be supported in the next version.\n",
    "print(f\"\\n--- Fetching Factors ---\")\n",
    "factors_df = get_stock_factors(\n",
    "    code=STOCK_CODE, \n",
    "    market=MARKET, \n",
    "    trade_date='20240930'\n",
    ")\n",
    "display(factors_df.tail(5))"
   ]
  },
  {
   "cell_type": "markdown",
   "id": "4521985c-7e13-4834-9e5f-69dc3e2d0b35",
   "metadata": {},
   "source": [
    "## 3. Technical Indicators and Analysis\n",
    "**Using the historical data fetched in Section 2.2, we demonstrate how to use the built-in technical analysis functions.**"
   ]
  },
  {
   "cell_type": "code",
   "execution_count": null,
   "id": "3eac1a66-e312-4743-aff0-201d32bd5e9c",
   "metadata": {},
   "outputs": [],
   "source": [
    "if 'CLOSE' in history_df.columns:\n",
    "    \n",
    "    # 3.1. Moving Average (MA)\n",
    "    # You can use the below function without a param because it will auto-matching the latest local cache.\n",
    "    # Only passing a df is also allowed.\n",
    "    # get_ma_n (market=None, code=None, start=None, end=None, n=5, df=None) \n",
    "    print(\"--- Calculating 20-Day Moving Average (MA20) ---\")\n",
    "    ma_df = get_ma_n(n=20, history_df.copy())\n",
    "    display(ma_df[['TRADE_DATE', 'CLOSE', 'MA_20']].tail(5))\n",
    "\n",
    "\n",
    "    # 3.2. Bollinger Bands (BOLL)\n",
    "    # get_boll_n (market=None, code=None, start=None, end=None, n=20, df=None)\n",
    "    print(\"\\n--- Calculating 20-Day Bollinger Bands ---\")\n",
    "    boll_df = get_boll_n(n=20, history_df.copy())\n",
    "    display(boll_df[['TRADE_DATE', 'CLOSE', 'BOLL_MID', 'BOLL_UP', 'BOLL_DOWN']].tail(5))\n",
    "    \n",
    "    \n",
    "    # 3.3. Relative Strength Index (RSI)\n",
    "    # get_rsi_n(market=None, code=None,start=None, end=None, n=5, df=None)\n",
    "    print(\"\\n--- Calculating 14-Day Relative Strength Index (RSI14) ---\")\n",
    "    rsi_df = get_rsi_n(n=14, history_df.copy())\n",
    "    display(rsi_df[['TRADE_DATE', 'CLOSE', 'RSI_14']].tail(5))\n",
    "\n",
    "    # 3.4. Rolling Volatility (RV)\n",
    "    # get_rv_n(market=None, code=None, start=None, end=None, n=5, df=None)\n",
    "    print(\"\\n--- Calculating 5-Day Rolling Volatility (RV5) ---\")\n",
    "    rv_df = get_rv_n(n=5, history_df.copy())\n",
    "    # Assuming the output column is standardized as 'RV_5' for display consistency\n",
    "    display(rv_df[['TRADE_DATE', 'CLOSE', 'RV_5']].tail(5))\n",
    "\n",
    "else:\n",
    "    print(\"Historical data not available or missing 'CLOSE' column for analysis.\")"
   ]
  },
  {
   "cell_type": "markdown",
   "id": "9e3456f0-830b-49cb-b3d2-73cb2f3293a2",
   "metadata": {},
   "source": [
    "## 4. Utility and Risk Metrics\n",
    "**Demonstrate utility functions for risk assessment and file management.**"
   ]
  },
  {
   "cell_type": "code",
   "execution_count": null,
   "id": "e583dedb-1ed7-402b-8789-295d6ad2cbe2",
   "metadata": {},
   "outputs": [],
   "source": [
    "# 4.1. Max Drawdown\n",
    "# get_max_drawdown(market=None, code=None, start=None, end=None, n=5, df=None)\n",
    "print(\"--- Calculating Maximum Drawdown (Based on Close Price) ---\")\n",
    "if 'CLOSE' in history_df.columns:\n",
    "    max_dd = get_max_drawdown(history_df)\n",
    "    print(f\"Maximum Drawdown occurred: {max_dd['date_max'].iloc[0]} to {max_dd['date_min'].iloc[0]}\")\n",
    "    print(f\"Max Drawdown Percentage: {max_dd['max_drawdown_pct'].iloc[0]:.2%}\")\n",
    "else:\n",
    "    print(\"Cannot calculate Max Drawdown: 'CLOSE' column is missing.\")\n",
    "\n",
    "\n",
    "# 4.2. Volume Ratio\n",
    "# get_vol_ratio(market=None, code=None, start=None, end=None, n=20, df=None)\n",
    "print(\"\\n--- Calculating 10-Day Volume Ratio (VS previous 10 days) ---\")\n",
    "if 'VOL' in history_df.columns:\n",
    "    vol_ratio_df = get_vol_ratio(n=10, history_df.copy())\n",
    "    display(vol_ratio_df[['TRADE_DATE', 'VOL', 'VOL_RATIO_10']].tail(5))\n",
    "else:\n",
    "    print(\"Cannot calculate Volume Ratio: 'VOL' column is missing.\")\n",
    "\n",
    "\n",
    "# 4.3. Cache and File Path Utility\n",
    "# get_newest_df_path()\n",
    "print(\"\\n--- Retrieving Newest Cache File Path (Utility) ---\")\n",
    "# Example: Get the path of the latest cache file.\n",
    "try:\n",
    "    cache_path = get_newest_df_path()\n",
    "    print(f\"Cache path for historical data: {cache_path}\")\n",
    "    if os.path.exists(cache_path):\n",
    "        print(\"File exists locally.\")\n",
    "    else:\n",
    "        print(\"File does not exist locally yet (or cache is disabled).\")\n",
    "except Exception as e:\n",
    "    print(f\"Error retrieving cache path: {e}\")"
   ]
  }
 ],
 "metadata": {
  "kernelspec": {
   "display_name": "Python 3 (ipykernel)",
   "language": "python",
   "name": "python3"
  },
  "language_info": {
   "codemirror_mode": {
    "name": "ipython",
    "version": 3
   },
   "file_extension": ".py",
   "mimetype": "text/x-python",
   "name": "python",
   "nbconvert_exporter": "python",
   "pygments_lexer": "ipython3",
   "version": "3.10.16"
  }
 },
 "nbformat": 4,
 "nbformat_minor": 5
}
